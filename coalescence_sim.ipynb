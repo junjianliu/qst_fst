{
 "cells": [
  {
   "cell_type": "code",
   "execution_count": null,
   "metadata": {
    "id": "MZq-NXMD_fzo"
   },
   "outputs": [],
   "source": [
    "#pip install msprime -q\n",
    "\n",
    "import msprime\n",
    "import tskit\n",
    "\n",
    "import numpy as np\n",
    "import random as rd\n",
    "import math\n",
    "\n",
    "import pandas as pd\n",
    "import pickle\n",
    "\n",
    "import os"
   ]
  },
  {
   "cell_type": "markdown",
   "metadata": {
    "id": "vHOsJGKfjavl"
   },
   "source": [
    "\n",
    "# Methods: Simulate unlinked loci, compute allele frequencies, and generate genotype matrices for a split or migration model"
   ]
  },
  {
   "cell_type": "code",
   "execution_count": null,
   "metadata": {
    "id": "ZAebGKG3tOWO"
   },
   "outputs": [],
   "source": [
    "### Simulate an independent coalescent tree for an N-deme split model\n",
    "def sim_split_singtree(Ne, n_samp, d, t, subtype):\n",
    "\n",
    "  n = Ne            # int: local population size\n",
    "  n_samp = n_samp   # int: number of individuals sampled per deme (number of chromosomes per deme = 2*n_samp)\n",
    "  N = d             # int: number of demes\n",
    "  t = t             # float: split time (overlying for the balanced split model)\n",
    "  n_anc = Ne        # int: number of individuals in the ancestral population (here, n_anc=Ne for basic models)\n",
    "\n",
    "  if (N == 1):\n",
    "    demography = None\n",
    "    dicts = n_samp\n",
    "  else:\n",
    "    demography = msprime.Demography()\n",
    "    for i in range(N):\n",
    "      demography.add_population(initial_size=n)\n",
    "\n",
    "    names = [f\"p{i}\" for i in range(N)]\n",
    "    for i in range(N):\n",
    "      demography[i].name = names[i]\n",
    "    dicts = {}\n",
    "    keys = names\n",
    "    for i in keys:\n",
    "      dicts[i] = n_samp\n",
    "\n",
    "    if subtype == \"star\":\n",
    "      demography.add_population(initial_size=n_anc)\n",
    "      demography[N].name = f\"p{N}\"\n",
    "      demography.add_population_split(time=t, derived=names, ancestral=f\"p{N}\")\n",
    "    elif subtype == \"balanced\":\n",
    "      if ((N & (N-1) == 0) and N != 0):\n",
    "        for i in range(N, 2*N-1):\n",
    "          demography.add_population(initial_size=n_anc)\n",
    "          demography[i].name = f\"p{i}\"\n",
    "        \n",
    "        # initialize a split time list\n",
    "        t_list = np.zeros((N-1,), dtype=float)\n",
    "        t_0 = t\n",
    "        \n",
    "        def binary_split(arr, left, right, value):\n",
    "          if right - left == 1:\n",
    "            arr[left] = value\n",
    "            return\n",
    "          mid = math.ceil((left + right) / 2)\n",
    "          arr[left:mid] = value\n",
    "          binary_split(arr, mid, right, value+t_0)\n",
    "        \n",
    "        binary_split(t_list, 0, N-1, t)\n",
    "\n",
    "        # add sequential split events\n",
    "        for j in range(N, 2*N-1):\n",
    "          demography.add_population_split(time=t_list[j-N], derived=[f\"p{2*(j-N)}\", f\"p{2*(j-N)+1}\"], ancestral=f\"p{j}\")\n",
    "      else:\n",
    "        print(\"Error: a balanced split tree can only be generated when the number of demes is a power of 2.\")\n",
    "    elif subtype == \"caterpillar\":\n",
    "      for i in range(N, 2*N-1):\n",
    "        demography.add_population(initial_size=n_anc)\n",
    "        demography[i].name = f\"p{i}\"\n",
    "        if i == N:\n",
    "          demography.add_population_split(time=(i-N+1)*t, derived=[\"p0\", \"p1\"], ancestral=f\"p{i}\")\n",
    "        else:\n",
    "          demography.add_population_split(time=(i-N+1)*t, derived=[f\"p{(i-1)}\", f\"p{i-N+1}\"], ancestral=f\"p{i}\")\n",
    "\n",
    "\n",
    "  ts = msprime.sim_ancestry(\n",
    "      samples=dicts,\n",
    "      demography=demography,\n",
    "      recombination_rate=0,     # totally linked, only produce one tree\n",
    "      sequence_length=1*10**6,\n",
    "      random_seed = None)\n",
    "\n",
    "  return ts"
   ]
  },
  {
   "cell_type": "code",
   "execution_count": null,
   "metadata": {
    "id": "S_RIfmhxqnLp"
   },
   "outputs": [],
   "source": [
    "### Simulate an independent coalescent tree for an N-deme migration model\n",
    "\n",
    "def sim_migration_singtree(Ne, n_samp, d, m, subtype):\n",
    "\n",
    "  n = Ne            # int: local population size\n",
    "  n_samp = n_samp   # int: number of individuals sampled per deme (number of chromosomes per deme = 2*n_samp)\n",
    "  N = d             # int: number of demes\n",
    "  m = m             # float: overall migration rate in an island model,\n",
    "                    # or migration rate going out from one deme to either of the two adjacent demes in a stepping-stone model\n",
    "\n",
    "  if N == 1:\n",
    "    demography = None\n",
    "    dicts = n_samp\n",
    "  else:\n",
    "    if subtype == \"island\":\n",
    "      demography = msprime.Demography.island_model(initial_size=[n]*N, migration_rate=m/(N-1))\n",
    "    elif subtype == \"circular\": # circular stepping-stone\n",
    "      demography = msprime.Demography.stepping_stone_model(initial_size=[n]*N, migration_rate=m/2, boundaries=False)\n",
    "\n",
    "    names = [f\"p{i}\" for i in range(N)]\n",
    "    for i in range(N):\n",
    "      demography[i].name = names[i]\n",
    "    dicts = {}\n",
    "    keys = names\n",
    "    for i in keys:\n",
    "      dicts[i] = n_samp\n",
    "\n",
    "\n",
    "  ts = msprime.sim_ancestry(\n",
    "          samples=dicts,\n",
    "          demography=demography,\n",
    "          recombination_rate=0,     # totally linked, only produce one tree\n",
    "          sequence_length=1*10**6,\n",
    "          random_seed=None)\n",
    "\n",
    "\n",
    "  return ts"
   ]
  },
  {
   "cell_type": "code",
   "execution_count": null,
   "metadata": {
    "id": "F3Po0Obidpos"
   },
   "outputs": [],
   "source": [
    "#helper function: recursively calculate the number of terminal nodes in each population that can be reached from an internal node\n",
    "#u is the node of interest. Computation for the root node returns computation for all the nodes\n",
    "\n",
    "def bl_spectrum(tree):\n",
    "  counts = dict()\n",
    "  rev_counts = dict()\n",
    "\n",
    "  u = tree.root\n",
    "  n = d\n",
    "\n",
    "  def terminalnodecounts(u):\n",
    "    attr = {i: 0 for i in range(0, n)}\n",
    "\n",
    "    if not tree.children(u):\n",
    "      attr[tree.population(u)] = 1\n",
    "    else:\n",
    "      attr_left = terminalnodecounts(tree.left_child(u))\n",
    "      attr_right = terminalnodecounts(tree.right_child(u))\n",
    "      list1 = list(attr_left.keys())\n",
    "      list2 = list(attr_right.keys())\n",
    "      shared_keys = set(list1).intersection(list2)\n",
    "      if not shared_keys:\n",
    "        attr = {**attr_left, **attr_right}\n",
    "      else:\n",
    "        new = dict()\n",
    "        for i in shared_keys:\n",
    "          value = attr_left[i] + attr_right[i]\n",
    "          new[i] = value\n",
    "        attr = {**attr_left, **attr_right, **new}\n",
    "\n",
    "    counts[u] = tuple(attr.values())\n",
    "\n",
    "    return attr\n",
    "\n",
    "  _ = terminalnodecounts(u)\n",
    "\n",
    "  for k, v in counts.items():\n",
    "    rev_counts[v] = rev_counts.get(v, []) + [k]\n",
    "\n",
    "  return rev_counts"
   ]
  },
  {
   "cell_type": "code",
   "execution_count": null,
   "metadata": {
    "id": "6QsTqDFBTTEy"
   },
   "outputs": [],
   "source": [
    "### Store the observed branch lengths in the spectrum into a B-set (as dictionary)\n",
    "\n",
    "def getBset(tree, rev_counts):\n",
    "  res = dict()\n",
    "\n",
    "  for k, v in rev_counts.items():\n",
    "    sum_bl = 0\n",
    "    for i in range(0, len(v)):\n",
    "      sum_bl = sum_bl + tree.branch_length(v[i])\n",
    "    res[k] = sum_bl\n",
    "\n",
    "  res[\"total branch length\"]= tree.total_branch_length\n",
    "\n",
    "  return res"
   ]
  },
  {
   "cell_type": "code",
   "execution_count": null,
   "metadata": {
    "id": "yJN5XHS4ZqQ9"
   },
   "outputs": [],
   "source": [
    "### Calculate demographic parameters for models with a specific FST\n",
    "### split time (t) for split models, migraiton rate (m) for migration models\n",
    "\n",
    "def getParam(subtype, d, Ne, FST):\n",
    "  formulas = {\n",
    "        \"star\": FST/(1-FST) * 2*Ne*d/(d-1),\n",
    "        \"balanced\": FST/(1-FST) * 2*Ne*d/(d*math.log2(d)-d+1),\n",
    "        \"caterpillar\": FST/(1-FST) * 6*Ne*d/((d-1)*(2*d-1)),\n",
    "        \"island\": (1-FST)/FST * ((d-1)**2)/(4*Ne*d**2),\n",
    "        \"circular\": (1-FST)/FST * ((d**2)-1)/(24*Ne*d),\n",
    "  }\n",
    "\n",
    "  return formulas.get(subtype, \"Invalid parameter\")"
   ]
  },
  {
   "cell_type": "code",
   "execution_count": null,
   "metadata": {
    "id": "Y7-8iW_2ojZm"
   },
   "outputs": [],
   "source": [
    "### Run multiple simulations and generate a meta branch length spectrum of independent loci\n",
    "\n",
    "def bl_spectrum_indloci(n_sim):\n",
    "  meta_res = dict()\n",
    "\n",
    "  for i in range(n_sim):\n",
    "    if i > 0 and i % 100 == 0:\n",
    "      #temp = open('/content/drive/MyDrive/temp_0420/temp'+str(i)+'_meta_res.txt', 'wb')\n",
    "      #pickle.dump(meta_res, temp)\n",
    "      #temp.close()\n",
    "      print(str(i)+ \"saved\")\n",
    "\n",
    "    if event == \"split\":\n",
    "      t = getParam(subtype, d, Ne, FST)\n",
    "      ts = sim_split_singtree(Ne, n_samp, d, t, subtype)\n",
    "    elif event == \"migration\":\n",
    "      m = getParam(subtype, d, Ne, FST)\n",
    "      ts = sim_migration_singtree(Ne, n_samp, d, m, subtype)\n",
    "\n",
    "    tree = ts.first()\n",
    "    rev_counts = bl_spectrum(tree)\n",
    "    res = getBset(tree, rev_counts)\n",
    "\n",
    "    list1 = list(meta_res.keys())\n",
    "    list2 = list(res.keys())\n",
    "    shared_keys = set(list1).intersection(list2)\n",
    "    if not shared_keys:\n",
    "      meta_res = {**meta_res, **res}\n",
    "    else:\n",
    "      new = dict()\n",
    "      for i in shared_keys:\n",
    "        value = meta_res[i] + res[i]\n",
    "        new[i] = value\n",
    "      meta_res = {**meta_res, **res, **new}\n",
    "\n",
    "  return meta_res"
   ]
  },
  {
   "cell_type": "code",
   "execution_count": null,
   "metadata": {
    "id": "OZoAo9e6uCZ-"
   },
   "outputs": [],
   "source": [
    "### Generate SFS dictionary/matrix and/or marginal SFS matrix from the meta branch length spectrum\n",
    "\n",
    "def sfs(B, add_matrix: bool = False, add_marginal: bool = False):\n",
    "  sfs = B.copy()\n",
    "  total = sfs['total branch length']\n",
    "  sfs = {k: v / total for k, v in sfs.items()}\n",
    "  del sfs['total branch length']\n",
    "  res = [sfs]\n",
    "\n",
    "  n_tip = 2*n_samp\n",
    "\n",
    "  # create an SFS matrix if needed （for 2-Deme models only)\n",
    "  if add_matrix == True:\n",
    "    sfs_mtx = np.zeros((n_tip+1, n_tip+1))\n",
    "    for k, v in sfs.items():\n",
    "      i = k[0]\n",
    "      j = k[1]\n",
    "      sfs_mtx[i,j] = v\n",
    "    res.append(sfs_mtx)\n",
    "\n",
    "  # create a marginal SFS matrix if needed\n",
    "  if add_marginal == True:\n",
    "    msfs_mtx = np.zeros((n_tip, d))\n",
    "    for deme in range(d):\n",
    "      for k,v in sfs.items():\n",
    "        if k[deme]>0 :\n",
    "          msfs_mtx[k[deme]-1,deme] += v\n",
    "    res.append(msfs_mtx)\n",
    "\n",
    "  return res"
   ]
  },
  {
   "cell_type": "code",
   "execution_count": null,
   "metadata": {
    "id": "G7RoYGkKfGTJ"
   },
   "outputs": [],
   "source": [
    "### Construct the meta-population genotype matrix according to SFS\n",
    "\n",
    "def genMtx(sfs, n_allele):\n",
    "  p = sfs\n",
    "  n_tip = 2*n_samp\n",
    "\n",
    "  # generate allele frequency vector\n",
    "  freq_vec = np.random.multinomial(n_allele, list(p.values()), size=1)\n",
    "  p_freq = dict()\n",
    "  i = 0\n",
    "  for k in p.keys():\n",
    "    p_freq[k] = freq_vec[0][i]\n",
    "    if freq_vec[0][i] == 0:\n",
    "      del p_freq[k]\n",
    "    i = i+1\n",
    "  #print(p_freq)\n",
    "\n",
    "  # use a list of d (default: 10) n_allele by n_tip (default: 200000x200) array to store matrix per population\n",
    "  res = [np.zeros((sum(p_freq.values()), n_tip)) for _ in range(d)]\n",
    "  cut = 0\n",
    "  for k, v in p_freq.items():\n",
    "    pre = cut\n",
    "    cut += v\n",
    "    for x in range(d):\n",
    "      n_allele1 = k[x]\n",
    "      tmp = np.zeros((v, n_tip))\n",
    "      for n in range(v):\n",
    "        a = rd.sample(range(n_tip), n_allele1)\n",
    "        b = np.zeros(n_tip)\n",
    "        for i in a: b[i] = 1\n",
    "        tmp[n, :] = b\n",
    "      res[x][pre:cut, :] = tmp\n",
    "  #print(res)\n",
    "\n",
    "  # get a diploid meta-population genotype matrix\n",
    "  res = [x[:, :n_samp] + x[:, n_samp:2*n_samp] for x in res]\n",
    "  geno_mtx = np.hstack(res)\n",
    "\n",
    "  return geno_mtx"
   ]
  },
  {
   "cell_type": "markdown",
   "metadata": {
    "id": "1i27hB4FVFg7"
   },
   "source": [
    "# Simulation starts here"
   ]
  },
  {
   "cell_type": "code",
   "execution_count": null,
   "metadata": {
    "id": "AvFDHrjHSGsc"
   },
   "outputs": [],
   "source": [
    "### Initialization\n",
    "event = \"split\"\n",
    "subtype = \"star\"\n",
    "d = 2\n",
    "FST = 0.1"
   ]
  },
  {
   "cell_type": "code",
   "execution_count": null,
   "metadata": {
    "colab": {
     "base_uri": "https://localhost:8080/"
    },
    "id": "OtcIFnANQyHn",
    "outputId": "60f950f6-36ca-4f20-b5a1-091de4cfb4f1"
   },
   "outputs": [],
   "source": [
    "### Simulation\n",
    "Ne = 1000\n",
    "n_samp = int(2000)\n",
    "n_allele = int(20000)\n",
    "\n",
    "B = bl_spectrum_indloci(n_sim=5000)\n",
    "sfs_res = sfs(B, add_matrix=False, add_marginal=True)\n",
    "geno_mtx = genMtx(sfs_res[0], n_allele=n_allele)\n",
    "\n",
    "### Saving\n",
    "folder_name = f\"fst{FST}\"\n",
    "base_path = '/Users/BidYD/Desktop/F/fst/input/'\n",
    "folder_path = os.path.join(base_path, folder_name)\n",
    "\n",
    "if not os.path.exists(folder_path):\n",
    "    os.makedirs(folder_path)\n",
    "\n",
    "file_name = f\"geno_{d}D_{event}_{subtype}_test.txt\"\n",
    "file_path = os.path.join(folder_path, file_name)\n",
    "\n",
    "np.savetxt(file_path, geno_mtx, fmt='%i')"
   ]
  },
  {
   "cell_type": "code",
   "execution_count": null,
   "metadata": {},
   "outputs": [],
   "source": []
  }
 ],
 "metadata": {
  "accelerator": "GPU",
  "colab": {
   "collapsed_sections": [
    "xFlzrg_JkW2O",
    "Q51b_whYVQBW"
   ],
   "gpuType": "T4",
   "provenance": []
  },
  "kernelspec": {
   "display_name": "Python 3 (ipykernel)",
   "language": "python",
   "name": "python3"
  },
  "language_info": {
   "codemirror_mode": {
    "name": "ipython",
    "version": 3
   },
   "file_extension": ".py",
   "mimetype": "text/x-python",
   "name": "python",
   "nbconvert_exporter": "python",
   "pygments_lexer": "ipython3",
   "version": "3.9.9"
  }
 },
 "nbformat": 4,
 "nbformat_minor": 1
}
