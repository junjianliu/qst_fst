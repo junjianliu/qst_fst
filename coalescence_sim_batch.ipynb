{
 "cells": [
  {
   "cell_type": "code",
   "execution_count": null,
   "id": "983cc6ee",
   "metadata": {},
   "outputs": [],
   "source": [
    "FST = 0.1"
   ]
  },
  {
   "cell_type": "code",
   "execution_count": null,
   "id": "c23c160a",
   "metadata": {},
   "outputs": [],
   "source": [
    "for event in (\"split\", \"migration\"):\n",
    "    if event == \"split\":\n",
    "        for subtype in (\"star\",):\n",
    "            for d in (2,4,8,16):\n",
    "                print(\"Running %s model, %s with %s demes\" % (event, subtype, d))\n",
    "                %run coalescence_sim.ipynb\n",
    "        for subtype in (\"balanced\", \"caterpillar\"):\n",
    "            for d in (4,8,16):\n",
    "                print(\"Running %s model, %s with %s demes\" % (event, subtype, d))\n",
    "                %run coalescence_sim.ipynb\n",
    "    if event == \"migration\":\n",
    "        for subtype in (\"island\",):\n",
    "            for d in (2,4,8,16):\n",
    "                print(\"Running %s model, %s with %s demes\" % (event, subtype, d))\n",
    "                %run coalescence_sim.ipynb\n",
    "        for subtype in (\"circular\",):\n",
    "            for d in (4,8,16):\n",
    "                print(\"Running %s model, %s with %s demes\" % (event, subtype, d))\n",
    "                %run coalescence_sim.ipynb"
   ]
  },
  {
   "cell_type": "code",
   "execution_count": null,
   "id": "f583046d",
   "metadata": {},
   "outputs": [],
   "source": []
  }
 ],
 "metadata": {
  "kernelspec": {
   "display_name": "Python 3 (ipykernel)",
   "language": "python",
   "name": "python3"
  },
  "language_info": {
   "codemirror_mode": {
    "name": "ipython",
    "version": 3
   },
   "file_extension": ".py",
   "mimetype": "text/x-python",
   "name": "python",
   "nbconvert_exporter": "python",
   "pygments_lexer": "ipython3",
   "version": "3.9.9"
  }
 },
 "nbformat": 4,
 "nbformat_minor": 5
}
